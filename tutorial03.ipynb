{
 "cells": [
  {
   "cell_type": "markdown",
   "id": "f3b08aeb",
   "metadata": {},
   "source": [
    "# What are Pulsars?"
   ]
  },
  {
   "cell_type": "markdown",
   "id": "e186b789",
   "metadata": {},
   "source": [
    "* Pulsars are created when supermassive stars with mass between 10-20 M$_{\\odot}$ (1 M$_{\\odot}$$\\sim2\\times10^{30}$ kg) collapse under their own gravity.\n",
    "* These are violent explosions and the outer layers of the supermassive star a repelled into space leaving behind a dense core that is $\\sim$ 10 km in diameter.\n",
    "* This dense core is known as a pulsar. \n",
    "* And because of the conservation of angular momentum and magnetic flux these pulsars spin **VERY FAST** (1000 times per second) and they have **enormous** magnetic fields (trillion times stronger than that of Earth).\n",
    "* This beautiful combination of **spinnig very fast and high magnetic fields** give pulsar their unique characteristic: they produce pulsed emision from their poles!"
   ]
  },
  {
   "cell_type": "markdown",
   "id": "deb98b72",
   "metadata": {},
   "source": [
    "# Pretty picture of a Pulsar [Sadly, not real :( ]"
   ]
  },
  {
   "cell_type": "code",
   "execution_count": null,
   "id": "7171948f",
   "metadata": {},
   "outputs": [],
   "source": [
    "from IPython.display import Image, display\n",
    "\n",
    "# Display an image from the local directory\n",
    "display(Image(url='https://cdn.mos.cms.futurecdn.net/bXYyJ7KyHaJVTmEhvm4Din.jpg.webp', height=1000, width=900))"
   ]
  },
  {
   "cell_type": "markdown",
   "id": "4ef9aacb",
   "metadata": {},
   "source": [
    "# Lighthouse Effect"
   ]
  },
  {
   "cell_type": "code",
   "execution_count": null,
   "id": "2d2d7fb1",
   "metadata": {},
   "outputs": [],
   "source": [
    "display(Image(url='https://upload.wikimedia.org/wikipedia/commons/4/4d/Lightsmall-optimised.gif'))"
   ]
  },
  {
   "cell_type": "markdown",
   "id": "e7bdb628",
   "metadata": {},
   "source": [
    "# The Use of AI in Astrophysics"
   ]
  },
  {
   "cell_type": "markdown",
   "id": "cf47dc4d",
   "metadata": {},
   "source": [
    "* As telescopes observe the night sky, they gather a huge amount of data ($\\sim$ terabytes) trying to discover new pulsars.\n",
    "* This data must then be reduced to identify pulsar from non-pulsar data.\n",
    "* This becomes a very **TEDIOUS** task for mere mortals.\n",
    "* This is where AI comes in and saves the day.\n",
    "* Using deep learning and neural networks, astronomers can train models to look for pulsar feautures in these vast amount of data that is collected daily.\n",
    "* So that is what we are going to do today. We'll generate some synthetic pulsar and non-pulsar (noise) data and see if the model can identify and seperate the two data sets."
   ]
  },
  {
   "cell_type": "markdown",
   "id": "d0f4238b",
   "metadata": {},
   "source": [
    " Importing necessary libraries"
   ]
  },
  {
   "cell_type": "code",
   "execution_count": null,
   "id": "7005c605",
   "metadata": {},
   "outputs": [],
   "source": [
    "import numpy as np\n",
    "import matplotlib.pyplot as plt\n",
    "from sklearn.model_selection import train_test_split\n",
    "from sklearn.ensemble import RandomForestClassifier\n",
    "from sklearn.metrics import classification_report, confusion_matrix\n",
    "from tensorflow.keras.models import Sequential\n",
    "from tensorflow.keras.layers import Dense, Dropout\n",
    "from tensorflow.keras.optimizers import Adam\n",
    "import pandas as pd"
   ]
  },
  {
   "cell_type": "markdown",
   "id": "5040df5e",
   "metadata": {},
   "source": [
    "### Function to simulate a pulsar signal (sine wave)"
   ]
  },
  {
   "cell_type": "code",
   "execution_count": null,
   "id": "8cedee9e",
   "metadata": {},
   "outputs": [],
   "source": [
    "def generate_pulsar_signal(length=100, frequency=0.1, amplitude=1):\n",
    "    t = np.linspace(0, length, length)\n",
    "    return amplitude * np.sin(2 * np.pi * frequency * t)"
   ]
  },
  {
   "cell_type": "markdown",
   "id": "6b3094be",
   "metadata": {},
   "source": [
    "### Function to simulate non-pulsar signal (random noise)"
   ]
  },
  {
   "cell_type": "code",
   "execution_count": null,
   "id": "753b9cb7",
   "metadata": {},
   "outputs": [],
   "source": [
    "def generate_non_pulsar_signal(length=100):\n",
    "    return np.random.normal(0, 1, length)"
   ]
  },
  {
   "cell_type": "markdown",
   "id": "328d9d4b",
   "metadata": {},
   "source": [
    "Simulating a dataset of pulsar and non-pulsar signals"
   ]
  },
  {
   "cell_type": "code",
   "execution_count": null,
   "id": "c27820b1",
   "metadata": {},
   "outputs": [],
   "source": [
    "num_samples = 1000\n",
    "signal_length = 100"
   ]
  },
  {
   "cell_type": "markdown",
   "id": "1e091109",
   "metadata": {},
   "source": [
    "Generate pulsar-like signals (periodic signals)"
   ]
  },
  {
   "cell_type": "code",
   "execution_count": null,
   "id": "b783d6b3",
   "metadata": {},
   "outputs": [],
   "source": [
    "pulsar_signals = np.array([generate_pulsar_signal(length=signal_length) for _ in range(num_samples // 2)])"
   ]
  },
  {
   "cell_type": "markdown",
   "id": "f6780208",
   "metadata": {},
   "source": [
    "Generate non-pulsar-like signals (random noise)"
   ]
  },
  {
   "cell_type": "code",
   "execution_count": null,
   "id": "5229a225",
   "metadata": {},
   "outputs": [],
   "source": [
    "non_pulsar_signals = np.array([generate_non_pulsar_signal(length=signal_length) for _ in range(num_samples // 2)])"
   ]
  },
  {
   "cell_type": "markdown",
   "id": "2c10d216",
   "metadata": {},
   "source": [
    "### Label the data: 1 for pulsar, 0 for non-pulsar"
   ]
  },
  {
   "cell_type": "code",
   "execution_count": null,
   "id": "56cf7ea8",
   "metadata": {},
   "outputs": [],
   "source": [
    "labels_pulsar = np.ones(num_samples // 2)\n",
    "labels_non_pulsar = np.zeros(num_samples // 2)"
   ]
  },
  {
   "cell_type": "markdown",
   "id": "133540c5",
   "metadata": {},
   "source": [
    "Combine the signals and labels into a single dataset"
   ]
  },
  {
   "cell_type": "code",
   "execution_count": null,
   "id": "3d9136e0",
   "metadata": {},
   "outputs": [],
   "source": [
    "signals = np.vstack([pulsar_signals, non_pulsar_signals])\n",
    "labels = np.hstack([labels_pulsar, labels_non_pulsar])\n"
   ]
  },
  {
   "cell_type": "markdown",
   "id": "c653803e",
   "metadata": {},
   "source": [
    "Shuffle the dataset"
   ]
  },
  {
   "cell_type": "code",
   "execution_count": null,
   "id": "bc9e5ed8",
   "metadata": {},
   "outputs": [],
   "source": [
    "indices = np.random.permutation(len(signals))\n",
    "signals = signals[indices]\n",
    "labels = labels[indices]"
   ]
  },
  {
   "cell_type": "markdown",
   "id": "82fbdd6a",
   "metadata": {},
   "source": [
    "Feature extraction function"
   ]
  },
  {
   "cell_type": "code",
   "execution_count": null,
   "id": "157e2b5d",
   "metadata": {},
   "outputs": [],
   "source": [
    "def extract_features(signals):\n",
    "    '''Calculates the statistics of the data for the model to use'''\n",
    "    features = []\n",
    "    for signal in signals:\n",
    "        mean = np.mean(signal)\n",
    "        variance = np.var(signal)\n",
    "        peak_to_peak = np.ptp(signal)  # Peak-to-peak value\n",
    "        features.append([mean, variance, peak_to_peak])\n",
    "    return np.array(features)"
   ]
  },
  {
   "cell_type": "markdown",
   "id": "20f2ae6b",
   "metadata": {},
   "source": [
    "Extract features from the signals"
   ]
  },
  {
   "cell_type": "code",
   "execution_count": null,
   "id": "4a678291",
   "metadata": {},
   "outputs": [],
   "source": [
    "features = extract_features(signals)"
   ]
  },
  {
   "cell_type": "markdown",
   "id": "98316b7e",
   "metadata": {},
   "source": [
    "### Split the dataset into training and testing sets"
   ]
  },
  {
   "cell_type": "code",
   "execution_count": null,
   "id": "71ca79c6",
   "metadata": {},
   "outputs": [],
   "source": [
    "X_train, X_test, y_train, y_test = train_test_split(features, labels,\n",
    "                                                    test_size=0.3, random_state=42)"
   ]
  },
  {
   "cell_type": "markdown",
   "id": "ea06856b",
   "metadata": {},
   "source": [
    "## Random Forest Classifier\n",
    "This is an ensemble technique that combines multiple decision trees in order to improve the classification accuracy and control overfitting to the training data.\n"
   ]
  },
  {
   "cell_type": "code",
   "execution_count": null,
   "id": "7ef86975",
   "metadata": {},
   "outputs": [],
   "source": [
    "rf_model = RandomForestClassifier(n_estimators=100, random_state=42)\n",
    "\n",
    "#train the model\n",
    "rf_model.fit(X_train, y_train)"
   ]
  },
  {
   "cell_type": "markdown",
   "id": "9de07091",
   "metadata": {},
   "source": [
    "Predicting on the test set"
   ]
  },
  {
   "cell_type": "code",
   "execution_count": null,
   "id": "63d5a2c0",
   "metadata": {},
   "outputs": [],
   "source": [
    "y_pred = rf_model.predict(X_test)"
   ]
  },
  {
   "cell_type": "markdown",
   "id": "2429d190",
   "metadata": {},
   "source": [
    "Evaluating the performance"
   ]
  },
  {
   "cell_type": "code",
   "execution_count": null,
   "id": "91e3e15a",
   "metadata": {},
   "outputs": [],
   "source": [
    "print(\"Random Forest Classifier Performance:\")\n",
    "print(classification_report(y_test, y_pred))\n",
    "# print(confusion_matrix(y_test, y_pred))"
   ]
  },
  {
   "cell_type": "markdown",
   "id": "de031d8b",
   "metadata": {},
   "source": [
    "Plot confusion matrix"
   ]
  },
  {
   "cell_type": "code",
   "execution_count": null,
   "id": "d80f45cc",
   "metadata": {},
   "outputs": [],
   "source": [
    "import seaborn as sns\n",
    "cm = confusion_matrix(y_test, y_pred)\n",
    "sns.heatmap(cm, annot=True, fmt='d', cmap='Blues', xticklabels=['Non-Pulsar', 'Pulsar'], yticklabels=['Non-Pulsar', 'Pulsar'])\n",
    "plt.title('Confusion Matrix - Random Forest')\n",
    "plt.gca().xaxis.set_label_position('top') \n",
    "plt.xlabel('Predicted')\n",
    "plt.gca().xaxis.tick_top()\n",
    "plt.ylabel('True')\n",
    "plt.show()"
   ]
  },
  {
   "cell_type": "markdown",
   "id": "8c68ac47",
   "metadata": {},
   "source": [
    "### Building a simple neural network for classification"
   ]
  },
  {
   "cell_type": "code",
   "execution_count": null,
   "id": "83f19483",
   "metadata": {},
   "outputs": [],
   "source": [
    "model = Sequential() # linear stack of layers for building a NN\n",
    "model.add(Dense(64, input_dim=3, activation='relu'))  # First hidden layer with 64 neurons\n",
    "model.add(Dropout(0.5))  # Dropout to prevent overfitting\n",
    "model.add(Dense(32, activation='relu'))  # Second hidden layer\n",
    "model.add(Dense(1, activation='sigmoid'))  # Output layer (sigmoid for binary classification)"
   ]
  },
  {
   "cell_type": "markdown",
   "id": "88417e58",
   "metadata": {},
   "source": [
    "Compile the model"
   ]
  },
  {
   "cell_type": "code",
   "execution_count": null,
   "id": "15bbeb1e",
   "metadata": {},
   "outputs": [],
   "source": [
    "#Adam() optimizer is used for its adaptive learning rate properties\n",
    "# Configure the model for training\n",
    "model.compile(optimizer=Adam(), loss='binary_crossentropy', metrics=['accuracy'])"
   ]
  },
  {
   "cell_type": "markdown",
   "id": "9e8b9cf4",
   "metadata": {},
   "source": [
    "Train the model"
   ]
  },
  {
   "cell_type": "code",
   "execution_count": null,
   "id": "4ce1349f",
   "metadata": {
    "scrolled": true
   },
   "outputs": [],
   "source": [
    "# Goes through the entire data set 20 times\n",
    "history = model.fit(X_train, y_train,\n",
    "                    epochs=20, batch_size=32,\n",
    "                    validation_data=(X_test, y_test))"
   ]
  },
  {
   "cell_type": "markdown",
   "id": "a7ab2c4e",
   "metadata": {},
   "source": [
    "Evaluate the model"
   ]
  },
  {
   "cell_type": "code",
   "execution_count": null,
   "id": "ea98414a",
   "metadata": {},
   "outputs": [],
   "source": [
    "print(\"Deep Learning Model Performance:\")\n",
    "loss, accuracy = model.evaluate(X_test, y_test)\n",
    "print(f'Loss: {loss:.4f}, Accuracy: {accuracy:.4f}')"
   ]
  },
  {
   "cell_type": "markdown",
   "id": "112b3d8b",
   "metadata": {},
   "source": [
    "### Plot training and validation accuracy over epochs"
   ]
  },
  {
   "cell_type": "code",
   "execution_count": null,
   "id": "8f5b1597",
   "metadata": {},
   "outputs": [],
   "source": [
    "plt.plot(history.history['accuracy'], label='Train Accuracy')\n",
    "plt.plot(history.history['val_accuracy'], label='Validation Accuracy')\n",
    "plt.title('Model Accuracy')\n",
    "plt.xlabel('Epochs')\n",
    "plt.ylabel('Accuracy')\n",
    "plt.legend()\n",
    "plt.show()"
   ]
  },
  {
   "cell_type": "markdown",
   "id": "e1b7f072",
   "metadata": {},
   "source": [
    "Plotting some example pulsar and non-pulsar signals"
   ]
  },
  {
   "cell_type": "code",
   "execution_count": null,
   "id": "76b5a720",
   "metadata": {},
   "outputs": [],
   "source": [
    "plt.figure(figsize=(10, 5))\n",
    "\n",
    "# Plot a pulsar signal\n",
    "plt.subplot(1, 2, 1)\n",
    "plt.plot(pulsar_signals[3])\n",
    "plt.title('Pulsar Signal (Periodic)')\n",
    "plt.xlabel('Time')\n",
    "plt.ylabel('Amplitude')\n",
    "\n",
    "# Plot a non-pulsar signal (random noise)\n",
    "plt.subplot(1, 2, 2)\n",
    "plt.plot(non_pulsar_signals[3])\n",
    "plt.title('Non-Pulsar Signal (Noise)')\n",
    "plt.xlabel('Time')\n",
    "plt.ylabel('Amplitude')\n",
    "\n",
    "plt.tight_layout()\n",
    "plt.show()"
   ]
  },
  {
   "cell_type": "code",
   "execution_count": 1,
   "id": "efee865e",
   "metadata": {},
   "outputs": [
    {
     "data": {
      "text/plain": [
       "'/home/ensci/Desktop/Lurgasho/FERMI_EUVE/Final_Analysis2/05_Nov_05_10GeV'"
      ]
     },
     "execution_count": 1,
     "metadata": {},
     "output_type": "execute_result"
    }
   ],
   "source": [
    "pwd"
   ]
  },
  {
   "cell_type": "code",
   "execution_count": null,
   "id": "cbbe6f53",
   "metadata": {},
   "outputs": [],
   "source": []
  },
  {
   "cell_type": "code",
   "execution_count": null,
   "id": "890ded9d",
   "metadata": {
    "scrolled": true
   },
   "outputs": [],
   "source": []
  },
  {
   "cell_type": "code",
   "execution_count": null,
   "id": "fd2f18a2",
   "metadata": {},
   "outputs": [],
   "source": []
  }
 ],
 "metadata": {
  "kernelspec": {
   "display_name": "Python 3 (ipykernel)",
   "language": "python",
   "name": "python3"
  },
  "language_info": {
   "codemirror_mode": {
    "name": "ipython",
    "version": 3
   },
   "file_extension": ".py",
   "mimetype": "text/x-python",
   "name": "python",
   "nbconvert_exporter": "python",
   "pygments_lexer": "ipython3",
   "version": "3.11.3"
  }
 },
 "nbformat": 4,
 "nbformat_minor": 5
}
